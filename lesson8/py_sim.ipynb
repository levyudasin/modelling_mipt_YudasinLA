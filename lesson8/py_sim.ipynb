{
 "cells": [
  {
   "cell_type": "code",
   "execution_count": 11,
   "id": "453901b8",
   "metadata": {},
   "outputs": [
    {
     "name": "stdout",
     "output_type": "stream",
     "text": [
      "30000000\n",
      "63.35728430747986 s\n"
     ]
    }
   ],
   "source": [
    "import time\n",
    "\n",
    "omega = 0.1\n",
    "method = \"RK\"\n",
    "omega = 0.1\n",
    "beta = 0.01\n",
    "dt = 0.1\n",
    "x_0 = 0\n",
    "v_0 = 0.1\n",
    "simTime = 3000000\n",
    "\n",
    "x = 0\n",
    "v = 0\n",
    "t = 0\n",
    "\n",
    "\n",
    "\n",
    "def v_t(t, x, v):\n",
    "    return -omega*omega*x - beta * v\n",
    "\n",
    "def x_t(t, x, v):\n",
    "    return v\n",
    "\n",
    "def stepRK(x_i, v_i, dt):\n",
    "    global x, v, t\n",
    "    vk1 = v_t(t, x_i, v_i)\n",
    "    xk1 = x_t(t, x_i, v_i)\n",
    "\n",
    "    vk2 = v_t(t + dt / 2, x_i + dt * xk1 / 2, v_i + dt * vk1 / 2)\n",
    "    xk2 = x_t(t + dt / 2, x_i + dt * xk1 / 2, v_i + dt * vk1 / 2)\n",
    "\n",
    "    xk3 = x_t(t + dt / 2, x_i + dt * xk2 / 2, v_i + dt * vk2 / 2)\n",
    "    vk3 = v_t(t + dt / 2, x_i + dt * xk2 / 2, v_i + dt * vk2 / 2)\n",
    "\n",
    "    vk4 = v_t(t + dt, x_i + dt * xk3, v_i + dt * vk3)\n",
    "    xk4 = x_t(t + dt, x_i + dt * xk3, v_i + dt * vk3)\n",
    "\n",
    "    v = v_i + dt / 6 * (vk1 + 2 * vk2 + 2 * vk3 + vk4)\n",
    "    x = x_i + dt / 6 * (xk1 + 2 * xk2 + 2 * xk3 + xk4)\n",
    "    t += dt\n",
    "\n",
    "v = v_0\n",
    "x = x_0\n",
    "\n",
    "start_time = time.time()\n",
    "print(int(simTime / dt))\n",
    "for i in range(int(simTime / dt)):\n",
    "    stepRK(x,v,dt)\n",
    "end_time = time.time()\n",
    "elapsed_time = (end_time - start_time)\n",
    "print(elapsed_time, 's')"
   ]
  },
  {
   "cell_type": "code",
   "execution_count": null,
   "id": "f27d6e55",
   "metadata": {},
   "outputs": [],
   "source": []
  }
 ],
 "metadata": {
  "kernelspec": {
   "display_name": "Python 3",
   "language": "python",
   "name": "python3"
  },
  "language_info": {
   "codemirror_mode": {
    "name": "ipython",
    "version": 3
   },
   "file_extension": ".py",
   "mimetype": "text/x-python",
   "name": "python",
   "nbconvert_exporter": "python",
   "pygments_lexer": "ipython3",
   "version": "3.12.3"
  }
 },
 "nbformat": 4,
 "nbformat_minor": 5
}
